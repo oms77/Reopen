{
  "cells": [
    {
      "cell_type": "markdown",
      "metadata": {
        "id": "view-in-github",
        "colab_type": "text"
      },
      "source": [
        "<a href=\"https://colab.research.google.com/github/oms77/Reopen/blob/main/Qr.ipynb\" target=\"_parent\"><img src=\"https://colab.research.google.com/assets/colab-badge.svg\" alt=\"Open In Colab\"/></a>"
      ]
    },
    {
      "cell_type": "code",
      "execution_count": null,
      "metadata": {
        "id": "qcLLYDZxlEq2"
      },
      "outputs": [],
      "source": [
        "import tensorflow as tf\n",
        "import numpy as np\n",
        "import matplotlib.pyplot as plt\n",
        "from tensorflow.keras.preprocessing import image\n",
        "from tensorflow.keras.preprocessing.image import ImageDataGenerator"
      ]
    },
    {
      "cell_type": "code",
      "execution_count": null,
      "metadata": {
        "id": "SYoi6QcplYiu"
      },
      "outputs": [],
      "source": [
        "from tensorflow.keras.layers import Input, Conv2D , Dense, Flatten, Dropout, GlobalMaxPooling2D , MaxPooling2D , BatchNormalization\n",
        "from tensorflow.keras.models import Model"
      ]
    },
    {
      "cell_type": "code",
      "execution_count": null,
      "metadata": {
        "id": "uKrp5WX2l9gk"
      },
      "outputs": [],
      "source": [
        "train = ImageDataGenerator(rescale=1/255.0)"
      ]
    },
    {
      "cell_type": "code",
      "source": [
        "train_data = train.flow_from_directory(\"/content/drive/MyDrive/Qrs/training\",target_size=(32,32),class_mode='sparse')"
      ],
      "metadata": {
        "colab": {
          "base_uri": "https://localhost:8080/"
        },
        "id": "LKqOZYNRM22s",
        "outputId": "7dcd3852-ca20-46cf-c79d-f72b7ac2a885"
      },
      "execution_count": null,
      "outputs": [
        {
          "output_type": "stream",
          "name": "stdout",
          "text": [
            "Found 81 images belonging to 3 classes.\n"
          ]
        }
      ]
    },
    {
      "cell_type": "code",
      "execution_count": null,
      "metadata": {
        "id": "X2WXpqsSnIAU"
      },
      "outputs": [],
      "source": [
        "i = Input(shape=(32,32,3))\n",
        "\n",
        "x = Conv2D(32, (3,3),activation='relu',padding='same')(i)\n",
        "x = BatchNormalization()(x)\n",
        "x = Conv2D(32, (3,3),activation='relu',padding='same')(x)\n",
        "x = BatchNormalization()(x)\n",
        "x = MaxPooling2D((2,2))(x)\n",
        "\n",
        "x = Conv2D(64, (3,3),activation='relu',padding='same')(x)\n",
        "x = BatchNormalization()(x)\n",
        "x = Conv2D(64, (3,3),activation='relu',padding='same')(x)\n",
        "x = BatchNormalization()(x)\n",
        "x = MaxPooling2D((2,2))(x)\n",
        "\n",
        "x = Conv2D(128, (3,3),activation='relu',padding='same')(x)\n",
        "x = BatchNormalization()(x)\n",
        "x = Conv2D(128, (3,3),activation='relu',padding='same')(x)\n",
        "x = BatchNormalization()(x)\n",
        "x = MaxPooling2D((2,2))(x)\n",
        "\n",
        "x = Flatten()(x)\n",
        "x = Dropout(0.2)(x)\n",
        "x = Dense(1024,activation='relu')(x)\n",
        "x = Dropout(0.2)(x)\n",
        "x = Dense(3,activation='softmax')(x)"
      ]
    },
    {
      "cell_type": "code",
      "execution_count": null,
      "metadata": {
        "id": "AUtaxCafod8t"
      },
      "outputs": [],
      "source": [
        "model = Model(i,x)"
      ]
    },
    {
      "cell_type": "code",
      "execution_count": null,
      "metadata": {
        "id": "wo-TqsstoiBp"
      },
      "outputs": [],
      "source": [
        "model.compile(optimizer='adam',loss='sparse_categorical_crossentropy',metrics=['accuracy'])"
      ]
    },
    {
      "cell_type": "code",
      "execution_count": null,
      "metadata": {
        "colab": {
          "base_uri": "https://localhost:8080/"
        },
        "id": "MQvgE674ovAt",
        "outputId": "0ba5e95e-1b82-4c10-d444-a891f996289b"
      },
      "outputs": [
        {
          "output_type": "stream",
          "name": "stdout",
          "text": [
            "Epoch 1/10\n",
            "3/3 [==============================] - 16s 6s/step - loss: 5.6551 - accuracy: 0.3580\n",
            "Epoch 2/10\n",
            "3/3 [==============================] - 2s 425ms/step - loss: 3.3836 - accuracy: 0.6173\n",
            "Epoch 3/10\n",
            "3/3 [==============================] - 1s 304ms/step - loss: 0.6650 - accuracy: 0.8519\n",
            "Epoch 4/10\n",
            "3/3 [==============================] - 1s 310ms/step - loss: 0.4293 - accuracy: 0.9383\n",
            "Epoch 5/10\n",
            "3/3 [==============================] - 1s 317ms/step - loss: 0.0916 - accuracy: 0.9753\n",
            "Epoch 6/10\n",
            "3/3 [==============================] - 1s 237ms/step - loss: 0.0103 - accuracy: 0.9877\n",
            "Epoch 7/10\n",
            "3/3 [==============================] - 1s 232ms/step - loss: 0.0022 - accuracy: 1.0000\n",
            "Epoch 8/10\n",
            "3/3 [==============================] - 1s 299ms/step - loss: 0.0033 - accuracy: 1.0000\n",
            "Epoch 9/10\n",
            "3/3 [==============================] - 1s 237ms/step - loss: 0.0046 - accuracy: 1.0000\n",
            "Epoch 10/10\n",
            "3/3 [==============================] - 1s 228ms/step - loss: 0.0125 - accuracy: 1.0000\n"
          ]
        }
      ],
      "source": [
        "r = model.fit(train_data,epochs=10)"
      ]
    },
    {
      "cell_type": "code",
      "execution_count": null,
      "metadata": {
        "id": "ueqOdAvxvVwq",
        "colab": {
          "base_uri": "https://localhost:8080/"
        },
        "outputId": "16b0b9b8-2b2e-4aad-ed9a-cbedf42edb67"
      },
      "outputs": [
        {
          "output_type": "stream",
          "name": "stdout",
          "text": [
            "Model: \"model_1\"\n",
            "_________________________________________________________________\n",
            " Layer (type)                Output Shape              Param #   \n",
            "=================================================================\n",
            " input_3 (InputLayer)        [(None, 32, 32, 3)]       0         \n",
            "                                                                 \n",
            " conv2d_12 (Conv2D)          (None, 32, 32, 32)        896       \n",
            "                                                                 \n",
            " batch_normalization_12 (Ba  (None, 32, 32, 32)        128       \n",
            " tchNormalization)                                               \n",
            "                                                                 \n",
            " conv2d_13 (Conv2D)          (None, 32, 32, 32)        9248      \n",
            "                                                                 \n",
            " batch_normalization_13 (Ba  (None, 32, 32, 32)        128       \n",
            " tchNormalization)                                               \n",
            "                                                                 \n",
            " max_pooling2d_6 (MaxPoolin  (None, 16, 16, 32)        0         \n",
            " g2D)                                                            \n",
            "                                                                 \n",
            " conv2d_14 (Conv2D)          (None, 16, 16, 64)        18496     \n",
            "                                                                 \n",
            " batch_normalization_14 (Ba  (None, 16, 16, 64)        256       \n",
            " tchNormalization)                                               \n",
            "                                                                 \n",
            " conv2d_15 (Conv2D)          (None, 16, 16, 64)        36928     \n",
            "                                                                 \n",
            " batch_normalization_15 (Ba  (None, 16, 16, 64)        256       \n",
            " tchNormalization)                                               \n",
            "                                                                 \n",
            " max_pooling2d_7 (MaxPoolin  (None, 8, 8, 64)          0         \n",
            " g2D)                                                            \n",
            "                                                                 \n",
            " conv2d_16 (Conv2D)          (None, 8, 8, 128)         73856     \n",
            "                                                                 \n",
            " batch_normalization_16 (Ba  (None, 8, 8, 128)         512       \n",
            " tchNormalization)                                               \n",
            "                                                                 \n",
            " conv2d_17 (Conv2D)          (None, 8, 8, 128)         147584    \n",
            "                                                                 \n",
            " batch_normalization_17 (Ba  (None, 8, 8, 128)         512       \n",
            " tchNormalization)                                               \n",
            "                                                                 \n",
            " max_pooling2d_8 (MaxPoolin  (None, 4, 4, 128)         0         \n",
            " g2D)                                                            \n",
            "                                                                 \n",
            " flatten_2 (Flatten)         (None, 2048)              0         \n",
            "                                                                 \n",
            " dropout_4 (Dropout)         (None, 2048)              0         \n",
            "                                                                 \n",
            " dense_3 (Dense)             (None, 1024)              2098176   \n",
            "                                                                 \n",
            " dropout_5 (Dropout)         (None, 1024)              0         \n",
            "                                                                 \n",
            " dense_4 (Dense)             (None, 3)                 3075      \n",
            "                                                                 \n",
            "=================================================================\n",
            "Total params: 2390051 (9.12 MB)\n",
            "Trainable params: 2389155 (9.11 MB)\n",
            "Non-trainable params: 896 (3.50 KB)\n",
            "_________________________________________________________________\n"
          ]
        }
      ],
      "source": [
        "model.summary()"
      ]
    },
    {
      "cell_type": "code",
      "source": [
        "from PIL import Image,ImageOps"
      ],
      "metadata": {
        "id": "PvgbhszHOiqV"
      },
      "execution_count": null,
      "outputs": []
    },
    {
      "cell_type": "code",
      "source": [
        "import cv2\n",
        "from google.colab.patches import cv2_imshow\n",
        "img = cv2.imread('/content/sample_data/mqr.png')\n",
        "img = cv2.cvtColor(img,cv2.COLOR_BGR2RGB)\n",
        "data = np.ndarray(shape=(1, 32, 32, 3), dtype=np.float32)\n",
        "img1 = cv2.resize(img,(32,32))\n",
        "\n",
        "#turn the image into a numpy array\n",
        "image_array = np.asarray(img1)\n",
        "# Normalize the image\n",
        "normalized_image_array = (image_array.astype(np.float32) /255.0)\n",
        "\n",
        "# Load the image into the array\n",
        "data[0] = normalized_image_array\n",
        "\n",
        "# run the inference\n",
        "prediction = model.predict(data)\n",
        "if np.argmax(prediction)==0:\n",
        "  cv2_imshow(img)\n",
        "  print(\"m1QR\")\n",
        "elif np.argmax(prediction)==1:\n",
        "  cv2_imshow(img)\n",
        "  print(\"microQR\")\n",
        "else:\n",
        "  cv2_imshow(img)\n",
        "  print(\"rMQR\")"
      ],
      "metadata": {
        "colab": {
          "base_uri": "https://localhost:8080/",
          "height": 1000
        },
        "id": "HKaFuyKHOuTE",
        "outputId": "19bfaf79-099d-4cee-fe35-55e8e35825b3"
      },
      "execution_count": null,
      "outputs": [
        {
          "output_type": "stream",
          "name": "stdout",
          "text": [
            "1/1 [==============================] - 0s 29ms/step\n"
          ]
        },
        {
          "output_type": "display_data",
          "data": {
            "text/plain": [
              "<PIL.Image.Image image mode=RGB size=1200x1200>"
            ],
            "image/png": "[encoded data removed]"
          },
          "metadata": {}
        },
        {
          "output_type": "stream",
          "name": "stdout",
          "text": [
            "rMQR\n"
          ]
        }
      ]
    },
    {
      "cell_type": "code",
      "source": [
        "model.save('new_qr.h5')"
      ],
      "metadata": {
        "colab": {
          "base_uri": "https://localhost:8080/"
        },
        "id": "AnbbDCiOVp4J",
        "outputId": "39e53cfb-1562-4d9c-954d-df0cca4d41db"
      },
      "execution_count": null,
      "outputs": [
        {
          "output_type": "stream",
          "name": "stderr",
          "text": [
            "/usr/local/lib/python3.10/dist-packages/keras/src/engine/training.py:3079: UserWarning: You are saving your model as an HDF5 file via `model.save()`. This file format is considered legacy. We recommend using instead the native Keras format, e.g. `model.save('my_model.keras')`.\n",
            "  saving_api.save_model(\n"
          ]
        }
      ]
    },
    {
      "cell_type": "code",
      "source": [],
      "metadata": {
        "id": "Zoy1nn5TV8HW"
      },
      "execution_count": null,
      "outputs": []
    }
  ],
  "metadata": {
    "colab": {
      "provenance": [],
      "authorship_tag": "ABX9TyPagleuv5JRjmZPLh45PvNU",
      "include_colab_link": true
    },
    "kernelspec": {
      "display_name": "Python 3",
      "name": "python3"
    },
    "language_info": {
      "name": "python"
    }
  },
  "nbformat": 4,
  "nbformat_minor": 0
}